{
 "cells": [
  {
   "cell_type": "code",
   "execution_count": 13,
   "id": "suspected-frame",
   "metadata": {},
   "outputs": [],
   "source": [
    "import os\n",
    "import requests\n",
    "from pymongo import MongoClient\n",
    "import bs4 as BeautifulSoup\n",
    "\n",
    "# Connect to MongoDB\n",
    "client = MongoClient('192.168.0.209', 27017)\n",
    "db = client['capstone_1']\n",
    "cards = db['cards']\n",
    "decks = db['deck_lists']\n",
    "\n",
    "# Base URLs for building requests\n",
    "scryfall_api_url = 'https://api.scryfall.com/{}'\n",
    "mtgtop8_url = 'https://www.mtgtop8.com/{}'\n",
    "\n",
    "# mtgtop8.com format keys for building requests\n",
    "mt8_format_keys = {\n",
    "    'vintage': 'VI',\n",
    "    'legacy': 'LE',\n",
    "    'modern': 'MO',\n",
    "    'pioneer': 'PI',\n",
    "    'historic': 'HI',\n",
    "    'standard': 'ST',\n",
    "    'commander': 'EDH',\n",
    "    'limited': 'LI',\n",
    "    'pauper': 'PAU',\n",
    "    'peasant': 'PEA',\n",
    "    'block': 'BL',\n",
    "    'extended': 'EX'\n",
    "    'highlander': 'HIGH',\n",
    "    'canadian_highlander': 'CHL'\n",
    "}\n",
    "\n",
    "def query(link, payload={}):\n",
    "    \"\"\"A requests wrapper function\"\"\"\n",
    "    response = requests.get(link, params=payload)\n",
    "    if response.status_code != 200:\n",
    "        print('WARNING', r.status_code)\n",
    "        print(response.content)\n",
    "    return response\n",
    "\n",
    "def hot_soup(url, payload={}):\n",
    "    \"\"\"Cooks a steaming bowl of hot soup\"\"\"\n",
    "    response = query(url, payload)\n",
    "    soup = BeautifulSoup(response.content, 'html.parser')\n",
    "    return soup\n",
    "\n",
    "def get_card(name_str):\n",
    "    \"\"\"Returns data from Scryfall API on an individual card by name\"\"\"\n",
    "    payload = {'fuzzy': '+'.join(name_str.split())}\n",
    "    response = query(scryfall_api_url.format('cards/named'), payload)\n",
    "    return response.json()"
   ]
  },
  {
   "cell_type": "markdown",
   "id": "distinguished-peace",
   "metadata": {},
   "source": [
    "I originally inteded to scrape the official WOTC magic.wizards.com site for tournament results but they unfortunately don't make much available outside of the most recent events.\n",
    "After some research, tournament data will be scraped from mtgtop8.com, who offer *years* worth of back data.\n",
    "Some individual card data could be scraped here as well, but scryfall.com offers much more robust card data via a convenient API."
   ]
  },
  {
   "cell_type": "markdown",
   "id": "vertical-window",
   "metadata": {},
   "source": [
    "interesting note on data gathering: https://www.dailyesports.gg/wizards-of-the-coast-mtg-frank-karsten-stop-publishing-gp-results-win-rates/"
   ]
  },
  {
   "cell_type": "code",
   "execution_count": null,
   "id": "passive-economy",
   "metadata": {},
   "outputs": [],
   "source": []
  }
 ],
 "metadata": {
  "kernelspec": {
   "display_name": "Python 3",
   "language": "python",
   "name": "python3"
  },
  "language_info": {
   "codemirror_mode": {
    "name": "ipython",
    "version": 3
   },
   "file_extension": ".py",
   "mimetype": "text/x-python",
   "name": "python",
   "nbconvert_exporter": "python",
   "pygments_lexer": "ipython3",
   "version": "3.8.6"
  }
 },
 "nbformat": 4,
 "nbformat_minor": 5
}
