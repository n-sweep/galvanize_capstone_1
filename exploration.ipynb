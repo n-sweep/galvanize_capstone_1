{
 "cells": [
  {
   "cell_type": "raw",
   "id": "rotary-fraction",
   "metadata": {},
   "source": [
    "WORKFLOW:\n",
    "    - Scrape format page\n",
    "    - Choose meta\n",
    "    - Scrape meta archtypes\n",
    "    \n",
    "    - Iterate through event pages  <-- This step requires selenium\n",
    "        - Scrape links to each event per page\n",
    "    \n",
    "        - Visit each event page and scrape\n",
    "            - links to top decks\n",
    "            - event rating\n",
    "            - event date\n",
    "            - num players\n",
    "    \n",
    "            - For each scraped deck link, scrape\n",
    "                - deck construction\n",
    "                - title\n",
    "                - author\n",
    "                - archtype"
   ]
  },
  {
   "cell_type": "code",
   "execution_count": 4,
   "id": "clean-incidence",
   "metadata": {},
   "outputs": [],
   "source": [
    "import re\n",
    "import requests\n",
    "from time import sleep\n",
    "from bs4 import BeautifulSoup, NavigableString\n",
    "from pymongo import MongoClient\n",
    "from selenium import webdriver\n",
    "from selenium.webdriver.firefox.options import Options\n",
    "\n",
    "# Connect to MongoDB\n",
    "client = MongoClient('192.168.0.209', 27017)\n",
    "db = client['capstone_1']\n",
    "cards_coll = db['cards']\n",
    "decks_coll = db['deck_lists']\n",
    "events_coll = db['events']\n",
    "\n",
    "# Base URLs for building requests\n",
    "scryfall_api_url = 'https://api.scryfall.com/{}'  # API docs: https://scryfall.com/docs/api\n",
    "mtgtop8_url = 'https://www.mtgtop8.com/{}'\n",
    "\n",
    "# mtgtop8.com format keys for building requests\n",
    "mt8_format_keys = {\n",
    "    'vintage': 'VI',\n",
    "    'legacy': 'LE',\n",
    "    'modern': 'MO',\n",
    "    'pioneer': 'PI',\n",
    "    'historic': 'HI',\n",
    "    'standard': 'ST',\n",
    "    'commander': 'EDH',\n",
    "    'limited': 'LI',\n",
    "    'pauper': 'PAU',\n",
    "    'peasant': 'PEA',\n",
    "    'block': 'BL',\n",
    "    'extended': 'EX',\n",
    "    'highlander': 'HIGH',\n",
    "    'canadian_highlander': 'CHL'\n",
    "}\n",
    "\n",
    "def query(link, payload={}):\n",
    "    \"\"\"A requests wrapper function\"\"\"\n",
    "    response = requests.get(link, params=payload)\n",
    "    if response.status_code != 200:\n",
    "        print('WARNING', response.status_code)\n",
    "        print(response.content)\n",
    "    return response\n",
    "\n",
    "def get_card(name_str):\n",
    "    \"\"\"Returns data from Scryfall API on an individual card by name\"\"\"\n",
    "    payload = {'fuzzy': '+'.join(name_str.split())}\n",
    "    response = query(scryfall_api_url.format('cards/named'), payload)\n",
    "    return response.json()\n",
    "\n",
    "def soup_to_xpath(child):\n",
    "    \"\"\"Convert BeautifulSoup object to XPath address\"\"\"\n",
    "    output = ['']\n",
    "    for parent in child.parents:\n",
    "        siblings = parent(child.name, recursive=False)\n",
    "        add = '' if siblings == [child] else f'[{siblings.index(child)}]'\n",
    "        output.append(child.name + add)\n",
    "        child = parent\n",
    "    output.reverse()\n",
    "    return f\"/{'/'.join(output)}\".rstrip('/')"
   ]
  },
  {
   "cell_type": "markdown",
   "id": "infrared-corruption",
   "metadata": {},
   "source": [
    "I originally inteded to scrape the official WotC magic.wizards.com site for tournament results but they unfortunately don't make much available outside of very recent events. After some research, tournament data will be scraped from mtgtop8.com, who offer *years* worth of back data. Some individual card data could be scraped here as well, but scryfall.com offers much more robust card data via a convenient API."
   ]
  },
  {
   "cell_type": "markdown",
   "id": "actual-aircraft",
   "metadata": {},
   "source": [
    "interesting note on data gathering: https://www.dailyesports.gg/wizards-of-the-coast-mtg-frank-karsten-stop-publishing-gp-results-win-rates/"
   ]
  },
  {
   "cell_type": "code",
   "execution_count": 5,
   "id": "regulated-gibson",
   "metadata": {},
   "outputs": [
    {
     "data": {
      "text/plain": [
       "'/html/body/div[2]/div/table/tr/td[1]/form/table/tr/td/table/tr/td/td/td/td/td/td/td/td/td/td/td/div'"
      ]
     },
     "execution_count": 5,
     "metadata": {},
     "output_type": "execute_result"
    }
   ],
   "source": [
    "q = query(mtgtop8_url.format('format'), {'f': mt8_format_keys['standard']})\n",
    "soup = BeautifulSoup(q.content, 'html.parser')"
   ]
  },
  {
   "cell_type": "code",
   "execution_count": 13,
   "id": "timely-carter",
   "metadata": {},
   "outputs": [],
   "source": [
    "meta_select = soup.find('select', {'name': 'meta'})  # drop down selector for meta\n",
    "selected_meta = meta_select.find('option', selected=True)\n",
    "metas = {opt.text: mtgtop8_url.format(opt['value']) for opt in meta_select.find_all('option')}  # meta keys for building URL\n",
    "\n",
    "archtypes = {\n",
    "    'aggro': [],\n",
    "    'control': [],\n",
    "    'combo': []\n",
    "}\n",
    "\n",
    "# Gathering a list of archtypes among deck styles for a meta\n",
    "for strat in soup.find_all(class_='Stable')[0].find_all(rowspan=True):  # In this table, only the style type headers use 'rowspan'\n",
    "    strat_str = strat.contents[0].lower()  # Get corrosponding key for archtypes dict\n",
    "    item = strat.parent\n",
    "    \n",
    "    # Gather each archtype under each deck style\n",
    "    while len(archtypes[strat_str]) < int(strat['rowspan']) - 1:  # Rowspan == number of archtypes under this style\n",
    "        item = item.next_sibling\n",
    "        if isinstance(item, NavigableString):\n",
    "            continue\n",
    "        if item.a:  # If this sibling has a link, we know it's what we're looking for\n",
    "            text  = item.a.text\n",
    "            num_decks = int(item.contents[3].text)\n",
    "            archtypes[strat_str].append((text, num_decks))\n"
   ]
  },
  {
   "cell_type": "code",
   "execution_count": 28,
   "id": "herbal-monitoring",
   "metadata": {},
   "outputs": [],
   "source": [
    "def get_next(driver, class_name):\n",
    "    try:\n",
    "        return driver.find_element_by_class_name('Nav_PN')\n",
    "    except Exception as e:\n",
    "        print(e)\n",
    "        return False\n",
    "\n",
    "def scrape_events(url):\n",
    "    \"\"\"\n",
    "        I do this inside it's own function because it's the only step\n",
    "        in the scraping process that requires Selenium\n",
    "    \"\"\"\n",
    "    options = Options()\n",
    "    options.add_argument('--headless')\n",
    "    driver = webdriver.Firefox(options=options)\n",
    "    driver.get(url)\n",
    "    sleep(1)\n",
    "    \n",
    "    events_agg = {}\n",
    "    \n",
    "    while True:\n",
    "        next_btn = get_next(driver, 'Nav_PN')\n",
    "        soup = BeautifulSoup(driver.page_source, 'html.parser')  # make some soup\n",
    "        \n",
    "        for event in soup.find_all(class_='Stable')[2].find_all(class_='hover_tr'):  # 10 events list table\n",
    "            \"\"\"\n",
    "                This loop iterates through event table rows, pulling out an ID number,\n",
    "                the star rating and the date of the event\n",
    "            \"\"\"\n",
    "            link = event.a  # associated hyperlink\n",
    "            eid = re.search(r\"e=(\\d+)&\", link['href'])  # unique id number\n",
    "            stars = event.find(class_='O16').find_all('img')  # star rating / level\n",
    "            events_agg[eid.group(1)] = {\n",
    "                'id': eid.group(1),\n",
    "                'name': link.text,\n",
    "                'date': event.find(class_='S10').text,\n",
    "                'level': 4 if 'bigstar' in stars[0]['src'] else len(stars),\n",
    "                'link': mtgtop8_url.format(link['href']),\n",
    "                'meta': selected_meta.text\n",
    "            }\n",
    "        \n",
    "        if next_btn:\n",
    "            next_btn.click()\n",
    "            sleep(1)\n",
    "        else:\n",
    "            break\n",
    "\n",
    "    driver.close()"
   ]
  },
  {
   "cell_type": "code",
   "execution_count": 29,
   "id": "swiss-diameter",
   "metadata": {},
   "outputs": [
    {
     "name": "stdout",
     "output_type": "stream",
     "text": [
      "{'29350': {'id': '29350', 'name': 'Event @ On Curve Events', 'date': '23/02/21', 'level': 1, 'link': 'https://www.mtgtop8.com/event?e=29350&f=ST', 'meta': 'Last 2 Months'}, '29352': {'id': '29352', 'name': 'Weekly Event @ The Mythic Society', 'date': '23/02/21', 'level': 1, 'link': 'https://www.mtgtop8.com/event?e=29352&f=ST', 'meta': 'Last 2 Months'}, '29337': {'id': '29337', 'name': 'Challenge @ The Monkey Planet', 'date': '22/02/21', 'level': 1, 'link': 'https://www.mtgtop8.com/event?e=29337&f=ST', 'meta': 'Last 2 Months'}, '29343': {'id': '29343', 'name': 'Season 1 Daily Trial @ BIG Magic', 'date': '22/02/21', 'level': 2, 'link': 'https://www.mtgtop8.com/event?e=29343&f=ST', 'meta': 'Last 2 Months'}, '29344': {'id': '29344', 'name': 'Ligue #4 @ Torino Tournament', 'date': '22/02/21', 'level': 1, 'link': 'https://www.mtgtop8.com/event?e=29344&f=ST', 'meta': 'Last 2 Months'}, '29351': {'id': '29351', 'name': 'Free Daily Bo1 @ Owl Central Games', 'date': '22/02/21', 'level': 1, 'link': 'https://www.mtgtop8.com/event?e=29351&f=ST', 'meta': 'Last 2 Months'}, '29323': {'id': '29323', 'name': 'SCG Tour Online - Satellite #8 @ Star City Games', 'date': '21/02/21', 'level': 2, 'link': 'https://www.mtgtop8.com/event?e=29323&f=ST', 'meta': 'Last 2 Months'}, '29324': {'id': '29324', 'name': 'Free Japan Championship 2021 SEASON1 Special Weekly Challenge @ BIG Magic', 'date': '21/02/21', 'level': 3, 'link': 'https://www.mtgtop8.com/event?e=29324&f=ST', 'meta': 'Last 2 Months'}, '29328': {'id': '29328', 'name': 'Grinch Melee @ MTGA', 'date': '21/02/21', 'level': 1, 'link': 'https://www.mtgtop8.com/event?e=29328&f=ST', 'meta': 'Last 2 Months'}, '29336': {'id': '29336', 'name': 'MAJH Sunday Series @ Malchijah Harding', 'date': '21/02/21', 'level': 2, 'link': 'https://www.mtgtop8.com/event?e=29336&f=ST', 'meta': 'Last 2 Months'}, '29292': {'id': '29292', 'name': 'SCG Tour Online - Satellite #3 @ Star City Games', 'date': '20/02/21', 'level': 3, 'link': 'https://www.mtgtop8.com/event?e=29292&f=ST', 'meta': 'Last 2 Months'}, '29293': {'id': '29293', 'name': 'SCG Tour Online - Satellite #4 @ Star City Games', 'date': '20/02/21', 'level': 2, 'link': 'https://www.mtgtop8.com/event?e=29293&f=ST', 'meta': 'Last 2 Months'}, '29295': {'id': '29295', 'name': \"FNM @ Gamer's Gauntlet\", 'date': '20/02/21', 'level': 1, 'link': 'https://www.mtgtop8.com/event?e=29295&f=ST', 'meta': 'Last 2 Months'}, '29313': {'id': '29313', 'name': 'SCG Tour Online - Satellite #5 @ Star City Games', 'date': '20/02/21', 'level': 2, 'link': 'https://www.mtgtop8.com/event?e=29313&f=ST', 'meta': 'Last 2 Months'}, '29314': {'id': '29314', 'name': 'SCG Tour Online - Satellite #6 @ Star City Games', 'date': '20/02/21', 'level': 3, 'link': 'https://www.mtgtop8.com/event?e=29314&f=ST', 'meta': 'Last 2 Months'}, '29315': {'id': '29315', 'name': 'Battles #5 - Sponsored by BCW Supplies @ The Bash Bros Podcast', 'date': '20/02/21', 'level': 1, 'link': 'https://www.mtgtop8.com/event?e=29315&f=ST', 'meta': 'Last 2 Months'}, '29322': {'id': '29322', 'name': 'SCG Tour Online - Satellite #7 @ Star City Games', 'date': '20/02/21', 'level': 2, 'link': 'https://www.mtgtop8.com/event?e=29322&f=ST', 'meta': 'Last 2 Months'}, '29283': {'id': '29283', 'name': 'Event @ On Curve Events', 'date': '19/02/21', 'level': 1, 'link': 'https://www.mtgtop8.com/event?e=29283&f=ST', 'meta': 'Last 2 Months'}, '29288': {'id': '29288', 'name': 'SCG Tour Online - Satellite #1 @ Star City Games', 'date': '19/02/21', 'level': 2, 'link': 'https://www.mtgtop8.com/event?e=29288&f=ST', 'meta': 'Last 2 Months'}, '29289': {'id': '29289', 'name': 'FNM at Home @ Draagoons Hobby Shop', 'date': '19/02/21', 'level': 1, 'link': 'https://www.mtgtop8.com/event?e=29289&f=ST', 'meta': 'Last 2 Months'}}\n"
     ]
    }
   ],
   "source": [
    "scrape_events(q.url)"
   ]
  }
 ],
 "metadata": {
  "kernelspec": {
   "display_name": "Python 3",
   "language": "python",
   "name": "python3"
  },
  "language_info": {
   "codemirror_mode": {
    "name": "ipython",
    "version": 3
   },
   "file_extension": ".py",
   "mimetype": "text/x-python",
   "name": "python",
   "nbconvert_exporter": "python",
   "pygments_lexer": "ipython3",
   "version": "3.8.6"
  }
 },
 "nbformat": 4,
 "nbformat_minor": 5
}
