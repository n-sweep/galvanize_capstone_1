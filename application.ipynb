{
 "cells": [
  {
   "cell_type": "code",
   "execution_count": 1,
   "id": "banner-diagram",
   "metadata": {},
   "outputs": [],
   "source": [
    "import pandas as pd\n",
    "import numpy as np\n",
    "import matplotlib.pyplot as plt\n",
    "from scipy import stats\n",
    "from pprint import pprint\n",
    "from pymongo import MongoClient\n",
    "from itertools import permutations, combinations\n",
    "\n",
    "# Connect to MongoDB\n",
    "client = MongoClient('mongodb://192.168.0.209', 27017)\n",
    "db = client['capstone_1']\n",
    "cards_coll = db['cards']\n",
    "decks_coll = db['decks']\n",
    "decklists_coll = db['deck_lists']\n",
    "events_coll = db['events']"
   ]
  },
  {
   "cell_type": "code",
   "execution_count": 2,
   "id": "anonymous-implement",
   "metadata": {},
   "outputs": [],
   "source": [
    "convert = {s: int for s in ['id_y', 'event_id']}\n",
    "remove_keys = [\n",
    "    'set',\n",
    "    'setName',\n",
    "    'artist',\n",
    "    'number',\n",
    "    'multiverseid',\n",
    "    'imageUrl',\n",
    "    'rulings',\n",
    "    'foreignNames',\n",
    "    'printings',\n",
    "    'originalText',\n",
    "    'originalType',\n",
    "    'legalities',\n",
    "    'variations',\n",
    "    'watermark',\n",
    "    'id'\n",
    "]\n",
    "remove_dict = {k: 0 for k in remove_keys}\n",
    "remove_dict['_id'] = 0\n",
    "\n",
    "events_df = pd.DataFrame(list(events_coll.find({}, {'_id':0, 'link':0})))\n",
    "decklists_df = pd.DataFrame(list(decklists_coll.find({}, {'_id':0, 'link':0})))\n",
    "cards_df = pd.DataFrame(list(cards_coll.find({}, remove_dict)))\n",
    "decks_df = pd.DataFrame(list(decks_coll.find({}, {'_id':0, 'link':0, 'mainboard':0, 'sideboard':0})))\n",
    "decks_df = events_df.merge(decks_df, left_on='id', right_on='event_id').astype(convert)\n",
    "decks_df.set_index('id_y', inplace=True)\n",
    "decks_df.rename_axis('id', inplace=True)\n",
    "decks_df.drop('id_x', axis=1, inplace=True)\n",
    "decks_df.drop([253183, 253184, 108514], axis=0, inplace=True)\n",
    "\n",
    "strat_fix = {\n",
    "    'Eldrazi Green': 'aggro',\n",
    "    'Mannequin': 'control',\n",
    "    'Elves!': 'aggro'\n",
    "}\n",
    "\n",
    "for rid in [207945, 108523, 108521, 108516]:\n",
    "    title = decks_df.loc[207945]['title']\n",
    "    decks_df.at[rid, 'strategy'] = strat_fix[title]\n",
    "    decks_df.at[rid, 'archtype'] = title"
   ]
  },
  {
   "cell_type": "code",
   "execution_count": 3,
   "id": "handled-chess",
   "metadata": {},
   "outputs": [],
   "source": [
    "def get_decklist_df(deck_id):\n",
    "    decklist = decklists_df[decklists_df['deck_id'] == deck_id]\n",
    "    cardlist = cards_df[cards_df['name'].isin(list(decklist['name']))]\n",
    "    return cardlist.merge(decklist, on='name')\n",
    "\n",
    "def rarity_count(deck_id):\n",
    "    df = get_decklist_df(deck_id)\n",
    "    deck_size = df['quantity'].sum()\n",
    "    df = df[~df['type'].str.contains('Basic Land')]  # Remove basic lands\n",
    "    output = df.groupby('rarity')['quantity'].sum().to_dict()\n",
    "    output['size'] = deck_size\n",
    "    output['deck_id'] = deck_id\n",
    "    return output"
   ]
  },
  {
   "cell_type": "markdown",
   "id": "protected-international",
   "metadata": {},
   "source": [
    "I decided to go to a ratio of rare cards here because some decks in recent years have more than the minimum allowed # of cards."
   ]
  },
  {
   "cell_type": "code",
   "execution_count": 4,
   "id": "surrounded-obligation",
   "metadata": {},
   "outputs": [],
   "source": [
    "rarity_df = pd.DataFrame([rarity_count(did) for did in decks_df.index]).fillna(0)\n",
    "rarity_df['Rare'] = (rarity_df['Rare'] + rarity_df['Mythic']) / rarity_df['size']\n",
    "rarity_df.drop(['Mythic', 'Uncommon', 'Common', 'size'], axis=1, inplace=True)\n",
    "decks_df = decks_df.merge(rarity_df, left_index=True, right_on='deck_id').set_index('deck_id')"
   ]
  },
  {
   "cell_type": "code",
   "execution_count": 5,
   "id": "inside-toolbox",
   "metadata": {},
   "outputs": [
    {
     "name": "stdout",
     "output_type": "stream",
     "text": [
      "<class 'pandas.core.frame.DataFrame'>\n",
      "Int64Index: 333 entries, 421716 to 253152\n",
      "Data columns (total 4 columns):\n",
      " #   Column     Non-Null Count  Dtype  \n",
      "---  ------     --------------  -----  \n",
      " 0   title      333 non-null    object \n",
      " 1   placement  333 non-null    object \n",
      " 2   strategy   333 non-null    object \n",
      " 3   Rare       333 non-null    float64\n",
      "dtypes: float64(1), object(3)\n",
      "memory usage: 13.0+ KB\n",
      "None\n"
     ]
    },
    {
     "data": {
      "text/html": [
       "<div>\n",
       "<style scoped>\n",
       "    .dataframe tbody tr th:only-of-type {\n",
       "        vertical-align: middle;\n",
       "    }\n",
       "\n",
       "    .dataframe tbody tr th {\n",
       "        vertical-align: top;\n",
       "    }\n",
       "\n",
       "    .dataframe thead th {\n",
       "        text-align: right;\n",
       "    }\n",
       "</style>\n",
       "<table border=\"1\" class=\"dataframe\">\n",
       "  <thead>\n",
       "    <tr style=\"text-align: right;\">\n",
       "      <th></th>\n",
       "      <th>title</th>\n",
       "      <th>placement</th>\n",
       "      <th>strategy</th>\n",
       "      <th>Rare</th>\n",
       "    </tr>\n",
       "    <tr>\n",
       "      <th>deck_id</th>\n",
       "      <th></th>\n",
       "      <th></th>\n",
       "      <th></th>\n",
       "      <th></th>\n",
       "    </tr>\n",
       "  </thead>\n",
       "  <tbody>\n",
       "    <tr>\n",
       "      <th>421716</th>\n",
       "      <td>Gruul Aggro</td>\n",
       "      <td>1</td>\n",
       "      <td>aggro</td>\n",
       "      <td>0.626667</td>\n",
       "    </tr>\n",
       "    <tr>\n",
       "      <th>421717</th>\n",
       "      <td>Abzan Aggro</td>\n",
       "      <td>2</td>\n",
       "      <td>aggro</td>\n",
       "      <td>0.706667</td>\n",
       "    </tr>\n",
       "    <tr>\n",
       "      <th>421719</th>\n",
       "      <td>Esper DOOM Yorion</td>\n",
       "      <td>3-4</td>\n",
       "      <td>control</td>\n",
       "      <td>0.610526</td>\n",
       "    </tr>\n",
       "    <tr>\n",
       "      <th>421718</th>\n",
       "      <td>Gruul Aggro</td>\n",
       "      <td>3-4</td>\n",
       "      <td>aggro</td>\n",
       "      <td>0.573333</td>\n",
       "    </tr>\n",
       "    <tr>\n",
       "      <th>421720</th>\n",
       "      <td>Dimir Mill</td>\n",
       "      <td>5-8</td>\n",
       "      <td>control</td>\n",
       "      <td>0.346667</td>\n",
       "    </tr>\n",
       "  </tbody>\n",
       "</table>\n",
       "</div>"
      ],
      "text/plain": [
       "                     title placement strategy      Rare\n",
       "deck_id                                                \n",
       "421716         Gruul Aggro         1    aggro  0.626667\n",
       "421717         Abzan Aggro         2    aggro  0.706667\n",
       "421719   Esper DOOM Yorion       3-4  control  0.610526\n",
       "421718         Gruul Aggro       3-4    aggro  0.573333\n",
       "421720          Dimir Mill       5-8  control  0.346667"
      ]
     },
     "execution_count": 5,
     "metadata": {},
     "output_type": "execute_result"
    }
   ],
   "source": [
    "working_df = decks_df.drop(['name', 'date', 'level', 'meta', 'event_id', 'pilot', 'archtype'], axis=1)\n",
    "print(working_df.info())\n",
    "working_df.head()"
   ]
  },
  {
   "cell_type": "code",
   "execution_count": 6,
   "id": "hungry-alcohol",
   "metadata": {},
   "outputs": [
    {
     "data": {
      "text/plain": [
       "Text(0.5, 0, 'Placement')"
      ]
     },
     "execution_count": 6,
     "metadata": {},
     "output_type": "execute_result"
    },
    {
     "data": {
      "image/png": "[encoded data removed]",
      "text/plain": [
       "<Figure size 432x288 with 1 Axes>"
      ]
     },
     "metadata": {
      "needs_background": "light"
     },
     "output_type": "display_data"
    }
   ],
   "source": [
    "plot = working_df['placement'].value_counts().plot(kind='bar')\n",
    "plot.set_ylabel('# of Decks')\n",
    "plot.set_xlabel('Placement')"
   ]
  },
  {
   "cell_type": "code",
   "execution_count": 7,
   "id": "organizational-motorcycle",
   "metadata": {},
   "outputs": [
    {
     "data": {
      "text/plain": [
       "<matplotlib.legend.Legend at 0x7fbaf9de0a90>"
      ]
     },
     "execution_count": 7,
     "metadata": {},
     "output_type": "execute_result"
    },
    {
     "data": {
      "image/png": "[encoded data removed]",
      "text/plain": [
       "<Figure size 432x288 with 1 Axes>"
      ]
     },
     "metadata": {
      "needs_background": "light"
     },
     "output_type": "display_data"
    }
   ],
   "source": [
    "fig, axs = plt.subplots()\n",
    "axs.set_title('Ratio of Rare Cards in Winning Decks')\n",
    "axs.set_xlabel('% Rare Cards in Deck')\n",
    "axs.set_ylabel('# of Decks (Normalized)')\n",
    "for grouping in working_df['placement'].unique():\n",
    "    q = working_df[working_df['placement'] == grouping]['Rare']\n",
    "    axs.hist(q, alpha=0.5, density=True, label=f'Place: {grouping}', bins=10)\n",
    "\n",
    "axs.legend()"
   ]
  },
  {
   "cell_type": "code",
   "execution_count": 8,
   "id": "representative-nancy",
   "metadata": {},
   "outputs": [
    {
     "data": {
      "image/png": "[encoded data removed]",
      "text/plain": [
       "<Figure size 1152x288 with 4 Axes>"
      ]
     },
     "metadata": {
      "needs_background": "light"
     },
     "output_type": "display_data"
    }
   ],
   "source": [
    "fig, axs = plt.subplots(1, 3, figsize=(16,4))\n",
    "fig.suptitle('Ratio of Rare Cards in Winning Decks', fontsize=18)\n",
    "fig.add_subplot(111, frameon=False)\n",
    "u = working_df['placement'].unique()[1:]\n",
    "t = ['1st v 2nd (p=0.51)', '1st v 3-4 (p=0.14)', '1st v 5-8 (p=0.18)']\n",
    "for i in range(3):\n",
    "    q1 = working_df[working_df['placement'] == '1']['Rare']\n",
    "    q2 = working_df[working_df['placement'] == u[i]]['Rare']\n",
    "    axs[i].hist(q1, alpha=0.5, density=True, label=f'Place: {1}', bins=10)\n",
    "    axs[i].hist(q2, alpha=0.5, density=True, label=f'Place: {u[i]}', bins=10)\n",
    "    axs[i].set_title(t[i])\n",
    "    axs[i].legend()\n",
    "\n",
    "plt.tight_layout()\n",
    "plt.xticks([])\n",
    "plt.yticks([])\n",
    "plt.xlabel('% Rare Cards in Deck', labelpad=22, fontsize=14)\n",
    "plt.ylabel('# of Decks (Normalized)', labelpad=25, fontsize=14)\n",
    "plt.savefig('1st_vs_all.png')"
   ]
  },
  {
   "cell_type": "code",
   "execution_count": 9,
   "id": "speaking-subject",
   "metadata": {},
   "outputs": [
    {
     "name": "stdout",
     "output_type": "stream",
     "text": [
      "Place comparison: 1 vs 2\n",
      "  - FAIL: 0.5141452310052546 !< 0.008333333333333333\n",
      "\n",
      "Place comparison: 1 vs 3-4\n",
      "  - FAIL: 0.14364596270792349 !< 0.008333333333333333\n",
      "\n",
      "Place comparison: 1 vs 5-8\n",
      "  - FAIL: 0.1788284025305446 !< 0.008333333333333333\n",
      "\n",
      "Place comparison: 2 vs 3-4\n",
      "  - FAIL: 0.3672236097430056 !< 0.008333333333333333\n",
      "\n",
      "Place comparison: 2 vs 5-8\n",
      "  - FAIL: 0.48191089091104167 !< 0.008333333333333333\n",
      "\n",
      "Place comparison: 3-4 vs 5-8\n",
      "  - FAIL: 0.7210885110209038 !< 0.008333333333333333\n",
      "\n"
     ]
    }
   ],
   "source": [
    "def tests(df, key):\n",
    "    for combo in combinations(df['placement'].unique(), 2):\n",
    "        c1 = df[df['placement'] == combo[0]][key]\n",
    "        c2 = df[df['placement'] == combo[1]][key]\n",
    "        yield combo, stats.ttest_ind(c1, c2, equal_var=False)\n",
    "\n",
    "def print_results(results, a=0.05):\n",
    "    alpha = a / len(results)\n",
    "    for r in results:\n",
    "        combo, result = r\n",
    "        print(f'Place comparison: {combo[0]} vs {combo[1]}')\n",
    "        if result[1] < alpha:\n",
    "            print(f'  - PASS: {result[1]} < {alpha}')\n",
    "        elif not result[1] < alpha:\n",
    "            print(f'  - FAIL: {result[1]} !< {alpha}')\n",
    "        print('')\n",
    "    \n",
    "print_results(tuple(tests(working_df, 'Rare')))"
   ]
  },
  {
   "cell_type": "code",
   "execution_count": 10,
   "id": "useful-pulse",
   "metadata": {},
   "outputs": [],
   "source": [
    "def cmc_count(deck_id):\n",
    "    df = get_decklist_df(deck_id)\n",
    "    deck_size = df['quantity'].sum()\n",
    "    #df = df[~df['type'].str.contains('Basic Land')]  # Remove basic lands\n",
    "    output = df['cmc'].mean()\n",
    "    return output"
   ]
  },
  {
   "cell_type": "code",
   "execution_count": 11,
   "id": "requested-projector",
   "metadata": {},
   "outputs": [
    {
     "data": {
      "text/html": [
       "<div>\n",
       "<style scoped>\n",
       "    .dataframe tbody tr th:only-of-type {\n",
       "        vertical-align: middle;\n",
       "    }\n",
       "\n",
       "    .dataframe tbody tr th {\n",
       "        vertical-align: top;\n",
       "    }\n",
       "\n",
       "    .dataframe thead th {\n",
       "        text-align: right;\n",
       "    }\n",
       "</style>\n",
       "<table border=\"1\" class=\"dataframe\">\n",
       "  <thead>\n",
       "    <tr style=\"text-align: right;\">\n",
       "      <th></th>\n",
       "      <th>title</th>\n",
       "      <th>placement</th>\n",
       "      <th>strategy</th>\n",
       "      <th>Mean CMC</th>\n",
       "    </tr>\n",
       "    <tr>\n",
       "      <th>deck_id</th>\n",
       "      <th></th>\n",
       "      <th></th>\n",
       "      <th></th>\n",
       "      <th></th>\n",
       "    </tr>\n",
       "  </thead>\n",
       "  <tbody>\n",
       "    <tr>\n",
       "      <th>421716</th>\n",
       "      <td>Gruul Aggro</td>\n",
       "      <td>1</td>\n",
       "      <td>aggro</td>\n",
       "      <td>2.666667</td>\n",
       "    </tr>\n",
       "    <tr>\n",
       "      <th>421717</th>\n",
       "      <td>Abzan Aggro</td>\n",
       "      <td>2</td>\n",
       "      <td>aggro</td>\n",
       "      <td>2.653846</td>\n",
       "    </tr>\n",
       "    <tr>\n",
       "      <th>421719</th>\n",
       "      <td>Esper DOOM Yorion</td>\n",
       "      <td>3-4</td>\n",
       "      <td>control</td>\n",
       "      <td>2.575758</td>\n",
       "    </tr>\n",
       "    <tr>\n",
       "      <th>421718</th>\n",
       "      <td>Gruul Aggro</td>\n",
       "      <td>3-4</td>\n",
       "      <td>aggro</td>\n",
       "      <td>2.793103</td>\n",
       "    </tr>\n",
       "    <tr>\n",
       "      <th>421720</th>\n",
       "      <td>Dimir Mill</td>\n",
       "      <td>5-8</td>\n",
       "      <td>control</td>\n",
       "      <td>1.838710</td>\n",
       "    </tr>\n",
       "    <tr>\n",
       "      <th>...</th>\n",
       "      <td>...</td>\n",
       "      <td>...</td>\n",
       "      <td>...</td>\n",
       "      <td>...</td>\n",
       "    </tr>\n",
       "    <tr>\n",
       "      <th>253185</th>\n",
       "      <td>Selesnya Aggro</td>\n",
       "      <td>5-8</td>\n",
       "      <td>aggro</td>\n",
       "      <td>1.892857</td>\n",
       "    </tr>\n",
       "    <tr>\n",
       "      <th>252617</th>\n",
       "      <td>Wug Control</td>\n",
       "      <td>1</td>\n",
       "      <td>control</td>\n",
       "      <td>1.945455</td>\n",
       "    </tr>\n",
       "    <tr>\n",
       "      <th>252616</th>\n",
       "      <td>RG Aggro</td>\n",
       "      <td>2</td>\n",
       "      <td>aggro</td>\n",
       "      <td>1.527778</td>\n",
       "    </tr>\n",
       "    <tr>\n",
       "      <th>253151</th>\n",
       "      <td>Zoo</td>\n",
       "      <td>3-4</td>\n",
       "      <td>aggro</td>\n",
       "      <td>1.285714</td>\n",
       "    </tr>\n",
       "    <tr>\n",
       "      <th>253152</th>\n",
       "      <td>Zoo</td>\n",
       "      <td>3-4</td>\n",
       "      <td>aggro</td>\n",
       "      <td>1.428571</td>\n",
       "    </tr>\n",
       "  </tbody>\n",
       "</table>\n",
       "<p>333 rows × 4 columns</p>\n",
       "</div>"
      ],
      "text/plain": [
       "                     title placement strategy  Mean CMC\n",
       "deck_id                                                \n",
       "421716         Gruul Aggro         1    aggro  2.666667\n",
       "421717         Abzan Aggro         2    aggro  2.653846\n",
       "421719   Esper DOOM Yorion       3-4  control  2.575758\n",
       "421718         Gruul Aggro       3-4    aggro  2.793103\n",
       "421720          Dimir Mill       5-8  control  1.838710\n",
       "...                    ...       ...      ...       ...\n",
       "253185      Selesnya Aggro       5-8    aggro  1.892857\n",
       "252617         Wug Control         1  control  1.945455\n",
       "252616            RG Aggro         2    aggro  1.527778\n",
       "253151                 Zoo       3-4    aggro  1.285714\n",
       "253152                 Zoo       3-4    aggro  1.428571\n",
       "\n",
       "[333 rows x 4 columns]"
      ]
     },
     "execution_count": 11,
     "metadata": {},
     "output_type": "execute_result"
    }
   ],
   "source": [
    "decks_df['Mean CMC'] = decks_df.apply(lambda row: cmc_count(row.name), axis=1)\n",
    "cmc_df = decks_df.drop(['name', 'date', 'level', 'meta', 'event_id', 'pilot', 'archtype', 'Rare'], axis=1)\n",
    "cmc_df"
   ]
  },
  {
   "cell_type": "code",
   "execution_count": 12,
   "id": "nasty-explorer",
   "metadata": {},
   "outputs": [
    {
     "data": {
      "text/plain": [
       "<matplotlib.legend.Legend at 0x7fbaf99e2dc0>"
      ]
     },
     "execution_count": 12,
     "metadata": {},
     "output_type": "execute_result"
    },
    {
     "data": {
      "image/png": "[encoded data removed]",
      "text/plain": [
       "<Figure size 432x288 with 1 Axes>"
      ]
     },
     "metadata": {
      "needs_background": "light"
     },
     "output_type": "display_data"
    }
   ],
   "source": [
    "fig, axs = plt.subplots()\n",
    "axs.set_title('Average Converted Mana Costs in Winning Decks')\n",
    "axs.set_xlabel('Converted Mana Cost')\n",
    "axs.set_ylabel('# of Decks (Normalized)')\n",
    "for grouping in working_df['placement'].unique():\n",
    "    q = cmc_df[working_df['placement'] == grouping]['Mean CMC']\n",
    "    axs.hist(q, alpha=0.5, density=True, label=f'Place: {grouping}', bins=10)\n",
    "\n",
    "axs.legend()"
   ]
  },
  {
   "cell_type": "code",
   "execution_count": 13,
   "id": "increasing-savannah",
   "metadata": {},
   "outputs": [
    {
     "name": "stdout",
     "output_type": "stream",
     "text": [
      "Place comparison: 1 vs 2\n",
      "  - FAIL: 0.19939097253262092 !< 0.008333333333333333\n",
      "\n",
      "Place comparison: 1 vs 3-4\n",
      "  - FAIL: 0.7942196442339899 !< 0.008333333333333333\n",
      "\n",
      "Place comparison: 1 vs 5-8\n",
      "  - FAIL: 0.23080909662766463 !< 0.008333333333333333\n",
      "\n",
      "Place comparison: 2 vs 3-4\n",
      "  - FAIL: 0.2231408314615524 !< 0.008333333333333333\n",
      "\n",
      "Place comparison: 2 vs 5-8\n",
      "  - FAIL: 0.7680773901179766 !< 0.008333333333333333\n",
      "\n",
      "Place comparison: 3-4 vs 5-8\n",
      "  - FAIL: 0.2515430151798154 !< 0.008333333333333333\n",
      "\n"
     ]
    }
   ],
   "source": [
    "print_results(tuple(tests(cmc_df, 'Mean CMC')))"
   ]
  },
  {
   "cell_type": "code",
   "execution_count": 14,
   "id": "literary-graduation",
   "metadata": {},
   "outputs": [
    {
     "data": {
      "text/plain": [
       "333"
      ]
     },
     "execution_count": 14,
     "metadata": {},
     "output_type": "execute_result"
    }
   ],
   "source": [
    "len(decks_df.index)"
   ]
  }
 ],
 "metadata": {
  "kernelspec": {
   "display_name": "Python 3",
   "language": "python",
   "name": "python3"
  },
  "language_info": {
   "codemirror_mode": {
    "name": "ipython",
    "version": 3
   },
   "file_extension": ".py",
   "mimetype": "text/x-python",
   "name": "python",
   "nbconvert_exporter": "python",
   "pygments_lexer": "ipython3",
   "version": "3.8.8"
  }
 },
 "nbformat": 4,
 "nbformat_minor": 5
}
